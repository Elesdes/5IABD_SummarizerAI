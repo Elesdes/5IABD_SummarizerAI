{
 "cells": [
  {
   "cell_type": "markdown",
   "metadata": {},
   "source": [
    "# **Libraries**\n"
   ]
  },
  {
   "cell_type": "code",
   "execution_count": 19,
   "metadata": {},
   "outputs": [],
   "source": [
    "import requests\n",
    "from pdf2image import convert_from_path\n",
    "from PIL import Image\n",
    "import os\n",
    "import math"
   ]
  },
  {
   "cell_type": "markdown",
   "metadata": {},
   "source": [
    "# PDF2Text | _Understanding the Formation of Galaxies with Warm Dark Matter_"
   ]
  },
  {
   "cell_type": "code",
   "execution_count": 20,
   "metadata": {},
   "outputs": [],
   "source": [
    "url = \"https://arxiv.org/pdf/2310.06882.pdf\"\n",
    "response = requests.get(url)\n",
    "with open(\"../data/v3/pdf/paper.pdf\", \"wb\") as f:\n",
    "    f.write(response.content)"
   ]
  },
  {
   "cell_type": "markdown",
   "metadata": {},
   "source": [
    "# PDF2Image\n"
   ]
  },
  {
   "cell_type": "code",
   "execution_count": 30,
   "metadata": {},
   "outputs": [],
   "source": [
    "pages = convert_from_path(\"../data/v3/pdf/GA2023_FinalPaper.pdf\", 500)\n",
    "[\n",
    "    os.remove(os.path.join(\"../data/v3/img\", file))\n",
    "    for file in os.listdir(\"../data/v3/img\")\n",
    "]\n",
    "for index, page in enumerate(pages, start=1):\n",
    "    page.save(f\"../data/v3/img/paper_page_{index}.jpg\", \"JPEG\")"
   ]
  },
  {
   "cell_type": "markdown",
   "metadata": {},
   "source": [
    "**Consolidate Images Back Into One**\n"
   ]
  },
  {
   "cell_type": "code",
   "execution_count": 31,
   "metadata": {},
   "outputs": [],
   "source": [
    "def extract_page_number(filename):\n",
    "    return int(filename.split(\"_\")[-1].split(\".\")[0])"
   ]
  },
  {
   "cell_type": "code",
   "execution_count": 32,
   "metadata": {},
   "outputs": [],
   "source": [
    "def resize_image(img, target_width, target_height):\n",
    "    \"\"\"Resize the input image to the specified dimensions.\"\"\"\n",
    "    return img.resize((target_width, target_height), Image.LANCZOS)"
   ]
  },
  {
   "cell_type": "code",
   "execution_count": 33,
   "metadata": {},
   "outputs": [],
   "source": [
    "def combine_and_save_images(images, output_path):\n",
    "    \"\"\"Combine a list of images horizontally and save the output.\"\"\"\n",
    "    combined_width = sum(img.width for img in images)\n",
    "    combined_height = images[0].height\n",
    "    combined_image = Image.new(\n",
    "        \"RGB\", (combined_width, combined_height), (255, 255, 255)\n",
    "    )\n",
    "\n",
    "    x_offset = 0\n",
    "    for img in images:\n",
    "        combined_image.paste(img, (x_offset, 0))\n",
    "        x_offset += img.width\n",
    "\n",
    "    # Save the combined image\n",
    "    combined_image.save(output_path)\n",
    "    print(f\"Combined and resized images saved at {output_path}\")"
   ]
  },
  {
   "cell_type": "code",
   "execution_count": 34,
   "metadata": {},
   "outputs": [],
   "source": [
    "def combine_images(input_directory, output_path):\n",
    "    images = []\n",
    "\n",
    "    # Load all images from the input directory\n",
    "    for filename in sorted(os.listdir(input_directory), key=extract_page_number):\n",
    "        if filename.endswith(\".png\") or filename.endswith(\".jpg\"):\n",
    "            img_path = os.path.join(input_directory, filename)\n",
    "            img = Image.open(img_path)\n",
    "            images.append(img)\n",
    "\n",
    "    # Calculate the number of rows and columns for the grid\n",
    "    num_images = len(images)\n",
    "    num_cols = int(math.ceil(math.sqrt(num_images)))\n",
    "    num_rows = int(math.ceil(num_images / num_cols))\n",
    "\n",
    "    # Calculate the total dimensions of the output image\n",
    "    max_width = max(img.width for img in images)\n",
    "    max_height = max(img.height for img in images)\n",
    "    grid_width = max_width * num_cols\n",
    "    grid_height = max_height * num_rows\n",
    "\n",
    "    # Create a new blank image to paste the images onto\n",
    "    combined_image = Image.new(\"RGB\", (grid_width, grid_height), (255, 255, 255))\n",
    "\n",
    "    # Paste images onto the combined image\n",
    "    for i, img in enumerate(images):\n",
    "        col_idx = i % num_cols\n",
    "        row_idx = i // num_cols\n",
    "        x_offset = col_idx * max_width\n",
    "        y_offset = row_idx * max_height\n",
    "\n",
    "        combined_image.paste(img, (x_offset, y_offset))\n",
    "\n",
    "    # Save the final combined image\n",
    "    combined_image = resize_image(combined_image, 1000, 1000)\n",
    "    combined_image.save(output_path)\n",
    "    print(f\"Combined images saved at {output_path}\")"
   ]
  },
  {
   "cell_type": "code",
   "execution_count": 35,
   "metadata": {},
   "outputs": [
    {
     "name": "stdout",
     "output_type": "stream",
     "text": [
      "Combined images saved at ../data/v3/consolidated/paper.png\n"
     ]
    }
   ],
   "source": [
    "combine_images(\"../data/v3/img\", \"../data/v3/consolidated/paper.png\")"
   ]
  }
 ],
 "metadata": {
  "kernelspec": {
   "display_name": "5IABD_AISummarizer",
   "language": "python",
   "name": "python3"
  },
  "language_info": {
   "codemirror_mode": {
    "name": "ipython",
    "version": 3
   },
   "file_extension": ".py",
   "mimetype": "text/x-python",
   "name": "python",
   "nbconvert_exporter": "python",
   "pygments_lexer": "ipython3",
   "version": "3.11.5"
  }
 },
 "nbformat": 4,
 "nbformat_minor": 2
}
