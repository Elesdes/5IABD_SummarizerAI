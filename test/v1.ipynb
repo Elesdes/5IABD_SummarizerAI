{
 "cells": [
  {
   "cell_type": "markdown",
   "metadata": {},
   "source": [
    "# Libraries"
   ]
  },
  {
   "cell_type": "code",
   "execution_count": 37,
   "metadata": {},
   "outputs": [],
   "source": [
    "import requests\n",
    "import pdfplumber\n",
    "from io import BytesIO\n",
    "import nltk\n",
    "from nltk.corpus import stopwords\n",
    "from nltk.tokenize import word_tokenize, sent_tokenize\n",
    "from nltk.probability import FreqDist\n",
    "import re"
   ]
  },
  {
   "cell_type": "code",
   "execution_count": 38,
   "metadata": {},
   "outputs": [
    {
     "name": "stderr",
     "output_type": "stream",
     "text": [
      "[nltk_data] Downloading package punkt to /home/juanm/nltk_data...\n",
      "[nltk_data]   Package punkt is already up-to-date!\n",
      "[nltk_data] Downloading package stopwords to /home/juanm/nltk_data...\n",
      "[nltk_data]   Package stopwords is already up-to-date!\n"
     ]
    },
    {
     "data": {
      "text/plain": [
       "True"
      ]
     },
     "execution_count": 38,
     "metadata": {},
     "output_type": "execute_result"
    }
   ],
   "source": [
    "nltk.download('punkt')\n",
    "nltk.download('stopwords')"
   ]
  },
  {
   "cell_type": "markdown",
   "metadata": {},
   "source": [
    "# PDF2Text | _Understanding the Formation of Galaxies with Warm Dark Matter_\n"
   ]
  },
  {
   "cell_type": "code",
   "execution_count": 39,
   "metadata": {},
   "outputs": [],
   "source": [
    "url = \"https://arxiv.org/pdf/2310.06882.pdf\"\n",
    "response = requests.get(url)"
   ]
  },
  {
   "cell_type": "code",
   "execution_count": 41,
   "metadata": {},
   "outputs": [],
   "source": [
    "with open('../data/v1/paper_raw.pdf', 'wb') as f:\n",
    "    f.write(response.content)"
   ]
  },
  {
   "cell_type": "code",
   "execution_count": 42,
   "metadata": {},
   "outputs": [],
   "source": [
    "pdf = pdfplumber.open(BytesIO(response.content))\n",
    "text = \"\\n\".join([page.extract_text() for page in pdf.pages])\n",
    "pdf.close()"
   ]
  },
  {
   "cell_type": "code",
   "execution_count": 43,
   "metadata": {},
   "outputs": [],
   "source": [
    "with open(\"../data/v1/paper.txt\", \"w\", encoding=\"utf-8\") as f:\n",
    "    f.write(text)"
   ]
  },
  {
   "cell_type": "markdown",
   "metadata": {},
   "source": [
    "# Summarization | _TextRank_"
   ]
  },
  {
   "cell_type": "code",
   "execution_count": 44,
   "metadata": {},
   "outputs": [],
   "source": [
    "def summarize_text(text, num_sentences):\n",
    "    # Tokenize mathematical expressions\n",
    "    math_tokens = re.findall(r'[A-Za-z]+|[0-9]+|\\S', text)\n",
    "\n",
    "    # Tokenize the text into sentences\n",
    "    sentences = sent_tokenize(text)\n",
    "\n",
    "    # Tokenize the text into words and remove stopwords\n",
    "    stop_words = set(stopwords.words(\"english\"))\n",
    "    words = [word for word in math_tokens if word.casefold() not in stop_words]\n",
    "\n",
    "    # Calculate the frequency distribution of words\n",
    "    word_freq = FreqDist(words)\n",
    "\n",
    "    # Mathematical keywords and operators\n",
    "    math_keywords = [\"function\", \"equation\", \"variable\"]\n",
    "    math_operators = set([\"+\", \"-\", \"*\", \"/\", \"=\"])\n",
    "\n",
    "    # Calculate the score for each sentence\n",
    "    sentence_scores = {}\n",
    "    for sentence in sentences:\n",
    "        keyword_score = sum(1 for keyword in math_keywords if keyword in sentence.lower())\n",
    "        operator_score = sum(1 for token in math_tokens if token in math_operators)\n",
    "        \n",
    "        for word in word_tokenize(sentence.lower()):\n",
    "            if word in word_freq.keys():\n",
    "                # Adjust the sentence score based on keyword and operator presence\n",
    "                sentence_scores[sentence] = word_freq[word] + keyword_score + operator_score\n",
    "\n",
    "    # Sort the sentences based on their scores\n",
    "    sorted_sentences = sorted(sentence_scores.items(), key=lambda x: x[1], reverse=True)\n",
    "\n",
    "    # Limit sentence length and select the top N sentences for the summary\n",
    "    MAX_SENTENCE_LENGTH = 30\n",
    "    summary_sentences = [sentence[0] for sentence in sorted_sentences if len(sentence[0].split()) <= MAX_SENTENCE_LENGTH][:num_sentences]\n",
    "\n",
    "    return \" \".join(summary_sentences)"
   ]
  },
  {
   "cell_type": "code",
   "execution_count": 53,
   "metadata": {},
   "outputs": [],
   "source": [
    "summary = summarize_text(text, 10)"
   ]
  },
  {
   "cell_type": "code",
   "execution_count": 54,
   "metadata": {},
   "outputs": [],
   "source": [
    "with open(\"../data/v1/summary.txt\", \"w\", encoding=\"utf-8\") as f:\n",
    "    f.write(summary)"
   ]
  }
 ],
 "metadata": {
  "kernelspec": {
   "display_name": "5IABD_AISummarizer",
   "language": "python",
   "name": "python3"
  },
  "language_info": {
   "codemirror_mode": {
    "name": "ipython",
    "version": 3
   },
   "file_extension": ".py",
   "mimetype": "text/x-python",
   "name": "python",
   "nbconvert_exporter": "python",
   "pygments_lexer": "ipython3",
   "version": "3.11.5"
  }
 },
 "nbformat": 4,
 "nbformat_minor": 2
}
